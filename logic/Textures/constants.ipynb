{
 "cells": [
  {
   "cell_type": "code",
   "execution_count": null,
   "metadata": {},
   "outputs": [],
   "source": [
    "import numpy as np\n",
    "COLORS = np.array([[244, 247, 220],\n",
    "          [0, 0, 200], \n",
    "          [193, 193, 193],\n",
    "          [255, 38, 127],\n",
    "          [0, 138, 0],\n",
    "          [149, 20, 0],\n",
    "          [255, 0, 0],\n",
    "          [255, 255, 255],\n",
    "          [1, 1, 1],\n",
    "          [255, 98, 159],\n",
    "          [225, 225, 0]], dtype = float) / 255.0\n",
    "\n",
    "magic_constant = 890"
   ]
  },
  {
   "cell_type": "code",
   "execution_count": null,
   "metadata": {},
   "outputs": [],
   "source": []
  }
 ],
 "metadata": {
  "kernelspec": {
   "display_name": "Python 3",
   "language": "python",
   "name": "python3"
  },
  "language_info": {
   "codemirror_mode": {
    "name": "ipython",
    "version": 3
   },
   "file_extension": ".py",
   "mimetype": "text/x-python",
   "name": "python",
   "nbconvert_exporter": "python",
   "pygments_lexer": "ipython3",
   "version": "3.6.7"
  }
 },
 "nbformat": 4,
 "nbformat_minor": 2
}
